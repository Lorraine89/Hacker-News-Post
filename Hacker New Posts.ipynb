{
 "cells": [
  {
   "cell_type": "markdown",
   "metadata": {},
   "source": [
    "## Exploring Hacker News post\n",
    "Our goal is to explore Hacker News post by focusing on posts taht start with Ask hn and Show hn. We then compare these two sets of posts according to their numbers of comments\n",
    "\n",
    "1.import data from hacker_news.csv \n",
    "2.reduce the data set by removing all posts that have no comments"
   ]
  },
  {
   "cell_type": "code",
   "execution_count": 61,
   "metadata": {},
   "outputs": [
    {
     "name": "stdout",
     "output_type": "stream",
     "text": [
      "['id', 'title', 'url', 'num_points', 'num_comments', 'author', 'created_at']\n"
     ]
    },
    {
     "data": {
      "text/plain": [
       "293119"
      ]
     },
     "execution_count": 61,
     "metadata": {},
     "output_type": "execute_result"
    }
   ],
   "source": [
    "from csv import reader\n",
    "open_file=open(\"hacker_news.csv\")\n",
    "opened_file=reader(open_file)\n",
    "full_data=list(opened_file)\n",
    "header=full_data[0]\n",
    "data=full_data[1:]\n",
    "print(header)\n",
    "len(data)"
   ]
  },
  {
   "cell_type": "code",
   "execution_count": 62,
   "metadata": {},
   "outputs": [
    {
     "data": {
      "text/plain": [
       "80401"
      ]
     },
     "execution_count": 62,
     "metadata": {},
     "output_type": "execute_result"
    }
   ],
   "source": [
    "hn=[]\n",
    "def reduce(data):\n",
    "    for row in data:\n",
    "        num_comments=float(row[4])\n",
    "        if num_comments>0:\n",
    "            hn.append(row)\n",
    "reduce(data)           \n",
    "len(hn)  \n"
   ]
  },
  {
   "cell_type": "markdown",
   "metadata": {},
   "source": [
    "## Extracting data\n",
    "We will filter out all posts that do not start with ask hn and show hn"
   ]
  },
  {
   "cell_type": "code",
   "execution_count": 63,
   "metadata": {},
   "outputs": [
    {
     "name": "stdout",
     "output_type": "stream",
     "text": [
      "6911\n",
      "5059\n",
      "68431\n"
     ]
    }
   ],
   "source": [
    "ask_posts=[]\n",
    "show_posts=[]\n",
    "other_posts=[]\n",
    "def filter(data):\n",
    "    for row in data:\n",
    "        title=row[1].lower()\n",
    "        if title.startswith(\"ask hn\"):\n",
    "            ask_posts.append(row)\n",
    "        elif title.startswith(\"show hn\"):\n",
    "            show_posts.append(row)\n",
    "        else:\n",
    "            other_posts.append(row)\n",
    "filter(hn)            \n",
    "length_ask=len(ask_posts)\n",
    "length_show=len(show_posts)\n",
    "length_other=len(other_posts)\n",
    "print(length_ask)\n",
    "print(length_show)\n",
    "print(length_other)\n"
   ]
  },
  {
   "cell_type": "markdown",
   "metadata": {},
   "source": [
    "## Compare number of comments"
   ]
  },
  {
   "cell_type": "code",
   "execution_count": 64,
   "metadata": {},
   "outputs": [
    {
     "name": "stdout",
     "output_type": "stream",
     "text": [
      "13.744175951381855\n",
      "9.810832180272781\n"
     ]
    }
   ],
   "source": [
    "def number(data,num):\n",
    "    for row in data:\n",
    "        num_comments=int(row[4])\n",
    "        num+=num_comments\n",
    "    return num\n",
    "number_ask=number(ask_posts,0)\n",
    "number_show=number(show_posts,0)\n",
    "avg_ask=number_ask/length_ask\n",
    "avg_show=number_show/length_show\n",
    "print(avg_ask)\n",
    "print(avg_show)"
   ]
  },
  {
   "cell_type": "markdown",
   "metadata": {},
   "source": [
    "According to above calculation, we find out that ask posts receive more comments on average. Next we will focus on ask posts"
   ]
  },
  {
   "cell_type": "code",
   "execution_count": 65,
   "metadata": {},
   "outputs": [
    {
     "data": {
      "text/plain": [
       "{'02': 2996,\n",
       " '01': 2089,\n",
       " '22': 3372,\n",
       " '21': 4500,\n",
       " '19': 3954,\n",
       " '17': 5547,\n",
       " '15': 18525,\n",
       " '14': 4972,\n",
       " '13': 7245,\n",
       " '11': 2797,\n",
       " '10': 3013,\n",
       " '09': 1477,\n",
       " '07': 1585,\n",
       " '03': 2154,\n",
       " '16': 4466,\n",
       " '08': 2362,\n",
       " '00': 2277,\n",
       " '23': 2297,\n",
       " '20': 4462,\n",
       " '18': 4877,\n",
       " '12': 4234,\n",
       " '04': 2360,\n",
       " '06': 1587,\n",
       " '05': 1838}"
      ]
     },
     "execution_count": 65,
     "metadata": {},
     "output_type": "execute_result"
    }
   ],
   "source": [
    "import datetime as dt\n",
    "result_list=[]\n",
    "for row in ask_posts:\n",
    "    created_at=row[6]\n",
    "    num_comments=int(row[4])\n",
    "    result=[created_at,num_comments]\n",
    "    result_list.append(result)\n",
    "#result_list\n",
    "post_hour={}\n",
    "comments_hour={}\n",
    "for result in result_list:\n",
    "    time=result[0]\n",
    "    datetime=dt.datetime.strptime(time,\"%m/%d/%Y %H:%M\")\n",
    "    hour=datetime.strftime(\"%H\")\n",
    "    if hour in post_hour:\n",
    "        post_hour[hour]+=1\n",
    "    else:\n",
    "        post_hour[hour]=1\n",
    "    num_com=result[1]    \n",
    "    if hour in comments_hour:\n",
    "        comments_hour[hour]+=num_com\n",
    "    else:\n",
    "        comments_hour[hour]=num_com\n",
    "post_hour\n",
    "comments_hour"
   ]
  },
  {
   "cell_type": "code",
   "execution_count": 66,
   "metadata": {},
   "outputs": [
    {
     "data": {
      "text/plain": [
       "[['02', 13.198237885462555],\n",
       " ['01', 9.367713004484305],\n",
       " ['22', 11.749128919860627],\n",
       " ['21', 11.056511056511056],\n",
       " ['19', 9.414285714285715],\n",
       " ['17', 13.73019801980198],\n",
       " ['15', 39.66809421841542],\n",
       " ['14', 13.153439153439153],\n",
       " ['13', 22.2239263803681],\n",
       " ['11', 11.143426294820717],\n",
       " ['10', 13.757990867579908],\n",
       " ['09', 8.392045454545455],\n",
       " ['07', 10.095541401273886],\n",
       " ['03', 10.160377358490566],\n",
       " ['16', 10.76144578313253],\n",
       " ['08', 12.43157894736842],\n",
       " ['00', 9.857142857142858],\n",
       " ['23', 8.322463768115941],\n",
       " ['20', 11.38265306122449],\n",
       " ['18', 10.789823008849558],\n",
       " ['12', 15.452554744525548],\n",
       " ['04', 12.688172043010752],\n",
       " ['06', 9.017045454545455],\n",
       " ['05', 11.139393939393939]]"
      ]
     },
     "execution_count": 66,
     "metadata": {},
     "output_type": "execute_result"
    }
   ],
   "source": [
    "avg_by_hour=[]\n",
    "for hour in post_hour:\n",
    "    num_comments=comments_hour[hour]\n",
    "    num_posts=post_hour[hour]\n",
    "    avg=num_comments/num_posts\n",
    "    avg_by_hour.append([hour,avg])\n",
    "avg_by_hour\n",
    "        "
   ]
  },
  {
   "cell_type": "code",
   "execution_count": 73,
   "metadata": {},
   "outputs": [
    {
     "data": {
      "text/plain": [
       "['15:00: 39.67 average comments per post',\n",
       " '13:00: 22.22 average comments per post',\n",
       " '12:00: 15.45 average comments per post',\n",
       " '10:00: 13.76 average comments per post',\n",
       " '17:00: 13.73 average comments per post',\n",
       " '02:00: 13.20 average comments per post',\n",
       " '14:00: 13.15 average comments per post',\n",
       " '04:00: 12.69 average comments per post',\n",
       " '08:00: 12.43 average comments per post',\n",
       " '22:00: 11.75 average comments per post',\n",
       " '20:00: 11.38 average comments per post',\n",
       " '11:00: 11.14 average comments per post',\n",
       " '05:00: 11.14 average comments per post',\n",
       " '21:00: 11.06 average comments per post',\n",
       " '18:00: 10.79 average comments per post',\n",
       " '16:00: 10.76 average comments per post',\n",
       " '03:00: 10.16 average comments per post',\n",
       " '07:00: 10.10 average comments per post',\n",
       " '00:00: 9.86 average comments per post',\n",
       " '19:00: 9.41 average comments per post',\n",
       " '01:00: 9.37 average comments per post',\n",
       " '06:00: 9.02 average comments per post',\n",
       " '09:00: 8.39 average comments per post',\n",
       " '23:00: 8.32 average comments per post']"
      ]
     },
     "execution_count": 73,
     "metadata": {},
     "output_type": "execute_result"
    }
   ],
   "source": [
    "swap=[]\n",
    "for h in avg_by_hour:\n",
    "    swap.append([h[1],h[0]])\n",
    "sorted_swap=sorted(swap,reverse=True)\n",
    "sorted_swap\n",
    "final=[]\n",
    "for i in sorted_swap:\n",
    "    hours=dt.datetime.strptime(i[1],\"%H\")\n",
    "    hour_str=hours.strftime(\"%H:%M\")\n",
    "    text=\"{time}: {num:.2f} average comments per post\".format(time=hour_str,num=i[0])\n",
    "    final.append(text)\n",
    "final    \n",
    "\n"
   ]
  },
  {
   "cell_type": "markdown",
   "metadata": {},
   "source": [
    "We can see that 10:00-17:00 is the peak hours for comments."
   ]
  },
  {
   "cell_type": "markdown",
   "metadata": {},
   "source": [
    "## Conclusion\n",
    "In conclusion, in order to receive maximum number of comments, we recommend your posts to be categorized as ask post and be posted at around 15:00."
   ]
  }
 ],
 "metadata": {
  "kernelspec": {
   "display_name": "Python 3",
   "language": "python",
   "name": "python3"
  },
  "language_info": {
   "codemirror_mode": {
    "name": "ipython",
    "version": 3
   },
   "file_extension": ".py",
   "mimetype": "text/x-python",
   "name": "python",
   "nbconvert_exporter": "python",
   "pygments_lexer": "ipython3",
   "version": "3.7.6"
  }
 },
 "nbformat": 4,
 "nbformat_minor": 4
}
